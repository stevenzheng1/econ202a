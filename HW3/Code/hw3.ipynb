{
 "cells": [
  {
   "cell_type": "markdown",
   "metadata": {},
   "source": [
    "Econ 202A Macroeconomics \\\n",
    "Fall 2021 \\\n",
    "Jon Steinsson\n",
    "\n",
    "Problem Set 1 \\\n",
    "October 26, 2021\n",
    "\n",
    "Steven Zheng \\\n",
    "<steven_zheng@berkeley.edu>"
   ]
  },
  {
   "cell_type": "markdown",
   "metadata": {},
   "source": [
    "This notebook contains the code and output for parts c through l. Parts a and b are in the file `poly.py`, and part m is in the notebook `hw1_partm.ipynb`."
   ]
  },
  {
   "cell_type": "code",
   "execution_count": 1,
   "metadata": {},
   "outputs": [
    {
     "name": "stdout",
     "output_type": "stream",
     "text": [
      "INFO: Pandarallel will run on 8 workers.\n",
      "INFO: Pandarallel will use standard multiprocessing data transfer (pipe) to transfer data between the main process and workers.\n"
     ]
    }
   ],
   "source": [
    "from Settings import *"
   ]
  },
  {
   "cell_type": "markdown",
   "metadata": {},
   "source": [
    "## Part a\n",
    "Write the household’s problem recursively. Be sure to state what variables are chosen and all the constraints."
   ]
  },
  {
   "cell_type": "markdown",
   "metadata": {},
   "source": [
    "The household's utility is\n",
    "\\begin{align}\n",
    "\\mathbb{E}_0 \\sum_{t=0}^\\infty \\beta^t U(C_t)\n",
    "\\end{align}\n",
    "\n",
    "where \n",
    "\\begin{align}\n",
    "U(C_t) = \\frac{C_t^{1-\\gamma}}{1-\\gamma}\n",
    "\\end{align}\n",
    "\n",
    "subject to the budget constraint\n",
    "\\begin{align}\n",
    "A_{t+1} = Z(Y_t - C_t + A_t)^\\alpha\n",
    "\\end{align}\n",
    "\n",
    "with labor income\n",
    "\\begin{align}\n",
    "\\log Y_t = (1-\\rho) \\log \\mu + \\rho \\log Y_{t-1} + \\epsilon_t, \\quad \\epsilon_t \\sim N(0,\\sigma^2)\n",
    "\\end{align}\n",
    "\n"
   ]
  },
  {
   "cell_type": "markdown",
   "metadata": {},
   "source": [
    "We can rewrite the budget constraint as\n",
    "\\begin{align}\n",
    "A_{t+1}^{1/\\alpha} =& Z^{1/\\alpha} (Y_t - C_t + A_t)\n",
    "\\\\ Z^{1/\\alpha} C_t =& Z^{1/\\alpha} (Y_t + A_t) - A_{t+1}^{1/\\alpha}\n",
    "\\\\ C_t =& Y_t + A_t - Z^{-\\frac{1}{\\alpha}} A_{t+1}^{\\frac{1}{\\alpha}}\n",
    "\\\\ C_t =& Y_t + A_t - \\left( \\frac{A_{t+1}}{Z} \\right)^{1/\\alpha}\n",
    "\\end{align}"
   ]
  },
  {
   "cell_type": "markdown",
   "metadata": {},
   "source": [
    "So we can rewrite the maximization as\n",
    "\\begin{align}\n",
    "\\max_{\\{A_{t+1}\\}_{t=0}^\\infty} \\mathbb{E} \\sum_{t=0}^\\infty \\beta^t U \\left( Y_t + A_t - \\left( \\frac{A_{t+1}}{Z} \\right)^{1/\\alpha} \\right)\n",
    "\\end{align}\n",
    "such that $A_{t+1} \\in \\Gamma(A_t,Y_t)$, $\\forall t$."
   ]
  },
  {
   "cell_type": "markdown",
   "metadata": {},
   "source": [
    "And then rewrite from the sequence problem to functional equation\n",
    "\\begin{align}\n",
    "V^\\star(A_0,Y_0) &= \\max_{\\{A_{t+1}\\}_{t=0}^\\infty} \\mathbb{E} \\sum_{t=0}^\\infty \\beta^t U \\left( Y_t + A_t - \\left( \\frac{A_{t+1}}{Z} \\right)^{1/\\alpha} \\right)\n",
    "\\\\ &= \\max_{A_{t+1} \\in \\Gamma(A_t,Y_t), \\ \\forall t} \\mathbb{E} \\sum_{t=0}^\\infty \\beta^t U \\left( Y_t + A_t - \\left( \\frac{A_{t+1}}{Z} \\right)^{1/\\alpha} \\right)\n",
    "\\\\ &= \\max_{A_{1} \\in \\Gamma(A_0,Y_0)} \\Bigg[ U \\left( Y_0 + A_0 - \\left( \\frac{A_{1}}{Z} \\right)^{1/\\alpha} \\right) \n",
    "\\\\ &+ \\beta \\max_{A_{(t+1)+1} \\in \\Gamma(A_{t+1},Y_{t+1}), \\ \\forall t} \\mathbb{E} \\sum_{t=0}^\\infty \\beta^t U \\left( Y_{t+1} + A_{t+1} - \\left( \\frac{A_{(t+1)+1}}{Z} \\right)^{1/\\alpha} \\right) \\Bigg]\n",
    "\\\\ &= \\max_{A_{1} \\in \\Gamma(A_0,Y_0)} \\left[ U \\left( Y_0 + A_0 - \\left( \\frac{A_{1}}{Z} \\right)^{1/\\alpha} \\right) +\\beta \\mathbb{E} V^{\\star}(A_1,Y_1) \\right]\n",
    "\\end{align}"
   ]
  },
  {
   "cell_type": "markdown",
   "metadata": {},
   "source": [
    "so then\n",
    "\\begin{align*}\n",
    "V(A,\\log Y) =& \\max_{A^\\prime} U \\left( Y + A - \\left(\\frac{A^\\prime}{Z}\\right)^{(1/\\alpha)} \\right) + \\beta \\mathbb{E} \\left[ V(A^\\prime, \\log Y^\\prime) \\right]\n",
    "\\end{align*}\n",
    "\n",
    "with labor income\n",
    "\\begin{align}\n",
    "\\log Y_t = (1-\\rho) \\log \\mu + \\rho \\log Y_{t-1} + \\epsilon_t, \\quad \\epsilon_t \\sim N(0,\\sigma^2)\n",
    "\\end{align}"
   ]
  },
  {
   "cell_type": "markdown",
   "metadata": {},
   "source": [
    "The choice variable are $A$ and $Y$. The parameter values are $\\gamma=2$, $\\beta=0.94$, $\\mu=1$, $b=0.4$, $\\rho=0.9$, $\\sigma^2=0.01$, $r=0.05$, $\\alpha=1/3$ and $Z=20$."
   ]
  },
  {
   "cell_type": "markdown",
   "metadata": {},
   "source": [
    "## Part b\n",
    "Write a version of McKay’s PolyBasis function for this problem. Use a 2nd order polynomial basis (which will have 6 terms)."
   ]
  },
  {
   "cell_type": "markdown",
   "metadata": {},
   "source": [
    "This is the function `PolyBasis()` in the file `poly.py`."
   ]
  },
  {
   "cell_type": "markdown",
   "metadata": {},
   "source": [
    "## Part c\n",
    "Write a version of McKay's PolyGetCoeff function for this problem"
   ]
  },
  {
   "cell_type": "markdown",
   "metadata": {},
   "source": [
    "This is the function `PolyGetCoef()` in the file `poly.py`."
   ]
  },
  {
   "cell_type": "markdown",
   "metadata": {},
   "source": [
    "## Part d\n",
    "Start your main Matlab program by reading in the parameter values into a structure."
   ]
  },
  {
   "cell_type": "code",
   "execution_count": 2,
   "metadata": {},
   "outputs": [],
   "source": [
    "gamma=2\n",
    "beta=0.94\n",
    "mu=1\n",
    "b=0.4\n",
    "rho=0.9\n",
    "sigma2=0.01\n",
    "sigma=np.sqrt(sigma2)\n",
    "r=0.05\n",
    "alpha=1/3\n",
    "Z=20"
   ]
  },
  {
   "cell_type": "markdown",
   "metadata": {},
   "source": [
    "## Part e\n",
    "Create a grid on $A$ and $\\log Y$. Feel free to use McKay’s `tauchen` function as needed. Use 7 grid points for $\\log Y$ and 100 grid points for $A$. (Please create the grid for $\\log Y$, not $Y$ . Uniformity will make grading easier.) Calculate the steady-state of $A$ using the first-order conditions of the sequence problem and the budget constraint. Then create an equally spaced grid from $0.05\\overline{A}$ to $1.95\\overline{A}$, where $\\overline{A}$ is the steady state."
   ]
  },
  {
   "cell_type": "markdown",
   "metadata": {},
   "source": [
    "Note: I copy Alisdair's `tauchen()` function into Python. It's in `Settings/tauchen.py`."
   ]
  },
  {
   "cell_type": "markdown",
   "metadata": {},
   "source": [
    "The sequence problem is\n",
    "\\begin{align}\n",
    "\\max_{\\{ C_t, A_t \\}} \\mathbb{E} \\sum_{t=0}^\\infty \\beta^t \\frac{C_t^{1-\\gamma}}{1-\\gamma}\n",
    "\\end{align}\n",
    "such that\n",
    "\\begin{align}\n",
    "A_{t+1} = Z(Y_t - C_t + A_t)^\\alpha.\n",
    "\\end{align}"
   ]
  },
  {
   "cell_type": "markdown",
   "metadata": {},
   "source": [
    "The Lagrangian is\n",
    "\\begin{align}\n",
    "\\mathcal{L} = \\mathbb{E} \\sum_{t=0}^\\infty \\beta^t \\frac{C_t^{1-\\gamma}}{1-\\gamma} - \\lambda_t \\left[A_{t+1} - Z(Y_t - C_t + A_t)^\\alpha \\right].\n",
    "\\end{align} "
   ]
  },
  {
   "cell_type": "markdown",
   "metadata": {},
   "source": [
    "The FOCs are WRT $C_t$\n",
    "\\begin{align}\n",
    "0&=\\frac{\\partial \\mathcal{L}}{\\partial C_t}\n",
    "\\\\ &= \\beta^t C_t^{-\\gamma} - \\lambda_t Z \\alpha (Y_t - C_t + A_t )^{\\alpha -1} \n",
    "\\\\ \\iff \\beta^t C_t^{-\\gamma} &= \\lambda_t Z \\alpha (Y_t - C_t + A_t )^{\\alpha -1}  \n",
    "\\end{align}"
   ]
  },
  {
   "cell_type": "markdown",
   "metadata": {},
   "source": [
    "The FOCs are WRT $C_t$\n",
    "\\begin{align}\n",
    "0&=\\frac{\\partial \\mathcal{L}}{\\partial C_t}\n",
    "\\\\ &= \\beta^t C_t^{-\\gamma} - \\lambda_t Z \\alpha (Y_t - C_t + A_t )^{\\alpha -1} \n",
    "\\\\ \\iff \\beta^t C_t^{-\\gamma} &= \\lambda_t Z \\alpha (Y_t - C_t + A_t )^{\\alpha -1}\n",
    "\\\\ \\iff \\lambda_t &= \\beta\n",
    "\\end{align}"
   ]
  },
  {
   "cell_type": "markdown",
   "metadata": {},
   "source": [
    "and $A_{t+1}$\n",
    "\\begin{align}\n",
    "0 &= \\frac{\\partial \\mathcal{L}}{\\partial A_{t+1}}\n",
    "\\\\ &= \\beta^t (-\\lambda_{t}) + \\beta^{t+1} \\mathbb{E} \\left[\\lambda_{t+1} Z \\alpha (Y_{t+1} - C_{t+1} + A_{t+1})^{\\alpha-1} \\right]\n",
    "\\\\ \\lambda_t &= \\beta \\mathbb{E} \\left[\\lambda_{t+1} Z \\alpha (Y_{t+1} - C_{t+1} + A_{t+1})^{\\alpha-1} \\right]\n",
    "\\end{align}"
   ]
  },
  {
   "cell_type": "code",
   "execution_count": null,
   "metadata": {},
   "outputs": [],
   "source": []
  },
  {
   "cell_type": "code",
   "execution_count": null,
   "metadata": {},
   "outputs": [],
   "source": []
  },
  {
   "cell_type": "code",
   "execution_count": null,
   "metadata": {},
   "outputs": [],
   "source": []
  },
  {
   "cell_type": "code",
   "execution_count": null,
   "metadata": {},
   "outputs": [],
   "source": []
  },
  {
   "cell_type": "code",
   "execution_count": null,
   "metadata": {},
   "outputs": [],
   "source": []
  },
  {
   "cell_type": "code",
   "execution_count": 3,
   "metadata": {},
   "outputs": [],
   "source": [
    "grid_logY, grid_logYprob = tauchen(N=7,\n",
    "                                   mu=1.0-rho,\n",
    "                                   rho=rho,\n",
    "                                   sigma=sigma,\n",
    "                                   m=4)\n",
    "grid_logYprob = grid_logYprob.T"
   ]
  },
  {
   "cell_type": "code",
   "execution_count": null,
   "metadata": {},
   "outputs": [],
   "source": [
    "grid_A = np.linspace(start=0.05*A_bar,\n",
    "                     stop=1.95*A_bar,\n",
    "                     num=100)\n"
   ]
  },
  {
   "cell_type": "code",
   "execution_count": null,
   "metadata": {},
   "outputs": [],
   "source": []
  },
  {
   "cell_type": "code",
   "execution_count": null,
   "metadata": {},
   "outputs": [],
   "source": []
  },
  {
   "cell_type": "code",
   "execution_count": null,
   "metadata": {},
   "outputs": [],
   "source": []
  },
  {
   "cell_type": "markdown",
   "metadata": {},
   "source": []
  }
 ],
 "metadata": {
  "interpreter": {
   "hash": "40d444e15d4b5bb908f4b95c26d9b158a336fb6b786751c7d3022d89de8ad3f2"
  },
  "kernelspec": {
   "display_name": "Python 3.8.8 64-bit ('base': conda)",
   "name": "python3"
  },
  "language_info": {
   "codemirror_mode": {
    "name": "ipython",
    "version": 3
   },
   "file_extension": ".py",
   "mimetype": "text/x-python",
   "name": "python",
   "nbconvert_exporter": "python",
   "pygments_lexer": "ipython3",
   "version": "3.7.7"
  },
  "orig_nbformat": 4
 },
 "nbformat": 4,
 "nbformat_minor": 2
}
